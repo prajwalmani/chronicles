{
 "cells": [
  {
   "cell_type": "code",
   "execution_count": 15,
   "id": "ddb32037",
   "metadata": {},
   "outputs": [],
   "source": [
    "import shutil\n",
    "import os\n",
    "import xml.etree.ElementTree as ET\n",
    "import pandas as pd\n",
    "import warnings\n",
    "warnings.filterwarnings('ignore')"
   ]
  },
  {
   "cell_type": "markdown",
   "id": "9e8b4b8d",
   "metadata": {},
   "source": [
    "kaggle dataset link: https://www.kaggle.com/datasets/team-ai/japaneseenglish-bilingual-corpus?resource=download  \n",
    "This particular dataset is translated by a human and even checked."
   ]
  },
  {
   "cell_type": "code",
   "execution_count": 2,
   "id": "dacac8b3",
   "metadata": {},
   "outputs": [],
   "source": [
    "# code to extract the zip file\n",
    "data_folder_name=r'D:\\chronicles\\eng-jap-data'\n",
    "target_dir=r'archive.zip'\n",
    "shutil.unpack_archive(target_dir,data_folder_name)"
   ]
  },
  {
   "cell_type": "markdown",
   "id": "73957fd3",
   "metadata": {},
   "source": [
    "This praticular dataset is stored in the form of XML.  \n",
    "Where <j> tag has the japanese sentence and <e> has the english sentence.  \n",
    "I have only considerd the english sentences which is checked rather than sentences which is just translated to english."
   ]
  },
  {
   "cell_type": "code",
   "execution_count": null,
   "id": "53e912b2",
   "metadata": {},
   "outputs": [],
   "source": [
    "os.remove('D:\\chronicles\\eng-jap-data\\wiki_corpus_2.01\\GNM\\GNM00155.xml')"
   ]
  },
  {
   "cell_type": "markdown",
   "id": "8bc14517",
   "metadata": {},
   "source": [
    "In the below cell i am extracting the value of <j> and <e> tags and storing it in CSV file using pandas."
   ]
  },
  {
   "cell_type": "code",
   "execution_count": 20,
   "id": "7aaed327",
   "metadata": {},
   "outputs": [
    {
     "name": "stdout",
     "output_type": "stream",
     "text": [
      "In D:\\chronicles\\eng-jap-data\\wiki_corpus_2.01\\BDS folder\n",
      "In D:\\chronicles\\eng-jap-data\\wiki_corpus_2.01\\BLD folder\n",
      "In D:\\chronicles\\eng-jap-data\\wiki_corpus_2.01\\CLT folder\n",
      "In D:\\chronicles\\eng-jap-data\\wiki_corpus_2.01\\EPR folder\n",
      "In D:\\chronicles\\eng-jap-data\\wiki_corpus_2.01\\FML folder\n",
      "In D:\\chronicles\\eng-jap-data\\wiki_corpus_2.01\\GNM folder\n",
      "In D:\\chronicles\\eng-jap-data\\wiki_corpus_2.01\\HST folder\n",
      "In D:\\chronicles\\eng-jap-data\\wiki_corpus_2.01\\kyoto_lexicon.csv folder\n",
      "In D:\\chronicles\\eng-jap-data\\wiki_corpus_2.01\\LTT folder\n",
      "In D:\\chronicles\\eng-jap-data\\wiki_corpus_2.01\\PNM folder\n",
      "In D:\\chronicles\\eng-jap-data\\wiki_corpus_2.01\\readme.pdf folder\n",
      "In D:\\chronicles\\eng-jap-data\\wiki_corpus_2.01\\RLW folder\n",
      "In D:\\chronicles\\eng-jap-data\\wiki_corpus_2.01\\ROD folder\n",
      "In D:\\chronicles\\eng-jap-data\\wiki_corpus_2.01\\SAT folder\n",
      "In D:\\chronicles\\eng-jap-data\\wiki_corpus_2.01\\SCL folder\n",
      "In D:\\chronicles\\eng-jap-data\\wiki_corpus_2.01\\SNT folder\n",
      "In D:\\chronicles\\eng-jap-data\\wiki_corpus_2.01\\TTL folder\n",
      "In D:\\chronicles\\eng-jap-data\\wiki_corpus_2.01\\Wiki_Corpus_List_2.01.csv folder\n",
      "Extracting done!\n"
     ]
    }
   ],
   "source": [
    "col_names=['japanese_sentence','english_sentence']\n",
    "df=pd.DataFrame()\n",
    "directory='D:\\chronicles\\eng-jap-data\\wiki_corpus_2.01'\n",
    "for item in os.listdir(directory):\n",
    "    item=os.path.join(directory,item)\n",
    "    print(\"In {} folder\".format(item))\n",
    "    if os.path.isdir(item):\n",
    "        for xml_file in os.listdir(item):\n",
    "            xml_file_path=os.path.join(item,xml_file)\n",
    "            tree=ET.parse(xml_file_path)\n",
    "            root=tree.getroot()\n",
    "            for sen in root.findall(\"par/sen/[@id]\"):\n",
    "                jap_sentence=sen.find(\"./j\").text\n",
    "                eng_sentence=sen.find(\"./e/[@type='check']\").text\n",
    "                row=pd.Series([jap_sentence,eng_sentence])\n",
    "                df=df.append(row,ignore_index=True)\n",
    "print(\"Extracting done!\")"
   ]
  },
  {
   "cell_type": "code",
   "execution_count": 22,
   "id": "dd45b254",
   "metadata": {},
   "outputs": [
    {
     "data": {
      "text/html": [
       "<div>\n",
       "<style scoped>\n",
       "    .dataframe tbody tr th:only-of-type {\n",
       "        vertical-align: middle;\n",
       "    }\n",
       "\n",
       "    .dataframe tbody tr th {\n",
       "        vertical-align: top;\n",
       "    }\n",
       "\n",
       "    .dataframe thead th {\n",
       "        text-align: right;\n",
       "    }\n",
       "</style>\n",
       "<table border=\"1\" class=\"dataframe\">\n",
       "  <thead>\n",
       "    <tr style=\"text-align: right;\">\n",
       "      <th></th>\n",
       "      <th>japanese_sentence</th>\n",
       "      <th>english_sentence</th>\n",
       "    </tr>\n",
       "  </thead>\n",
       "  <tbody>\n",
       "    <tr>\n",
       "      <th>0</th>\n",
       "      <td>雪舟（せっしゅう、1420年（応永27年） - 1506年（永正3年））は号で、15世紀後半...</td>\n",
       "      <td>Known as Sesshu (1420 - 1506), he was an ink p...</td>\n",
       "    </tr>\n",
       "    <tr>\n",
       "      <th>1</th>\n",
       "      <td>日本の水墨画を一変させた。</td>\n",
       "      <td>He revolutionized the Japanese ink painting.</td>\n",
       "    </tr>\n",
       "    <tr>\n",
       "      <th>2</th>\n",
       "      <td>諱は「等楊（とうよう）」、もしくは「拙宗（せっしゅう）」と号した。</td>\n",
       "      <td>He was given the posthumous name \"Toyo\" or \"Se...</td>\n",
       "    </tr>\n",
       "    <tr>\n",
       "      <th>3</th>\n",
       "      <td>備中国に生まれ、京都・相国寺に入ってから周防国に移る。</td>\n",
       "      <td>Born in Bicchu Province, he moved to Suo Provi...</td>\n",
       "    </tr>\n",
       "    <tr>\n",
       "      <th>4</th>\n",
       "      <td>その後遣明使に随行して中国（明）に渡って中国の水墨画を学んだ。</td>\n",
       "      <td>Later he accompanied a mission to Ming Dynasty...</td>\n",
       "    </tr>\n",
       "    <tr>\n",
       "      <th>...</th>\n",
       "      <td>...</td>\n",
       "      <td>...</td>\n",
       "    </tr>\n",
       "    <tr>\n",
       "      <th>167824</th>\n",
       "      <td>尚侍(ないしのかみ)とは、下記のとおりである。</td>\n",
       "      <td>Naishi no kami indicates as follows.</td>\n",
       "    </tr>\n",
       "    <tr>\n",
       "      <th>167825</th>\n",
       "      <td>1 明治・大正時代の、宮中女官の最高の官名。</td>\n",
       "      <td>1. the highest government post for the court l...</td>\n",
       "    </tr>\n",
       "    <tr>\n",
       "      <th>167826</th>\n",
       "      <td>2 平安時代の、内侍司の長官を勤めた女官の官名。</td>\n",
       "      <td>2. the government post for the court lady who ...</td>\n",
       "    </tr>\n",
       "    <tr>\n",
       "      <th>167827</th>\n",
       "      <td>天皇に近侍して、奏請・伝宣などをつかさどる。</td>\n",
       "      <td>Naishi no kami attended on the emperor, being ...</td>\n",
       "    </tr>\n",
       "    <tr>\n",
       "      <th>167828</th>\n",
       "      <td>後に女御･更衣に準じて後宮に列する。</td>\n",
       "      <td>Later, Naishi no kami was ranked with Nyogo an...</td>\n",
       "    </tr>\n",
       "  </tbody>\n",
       "</table>\n",
       "<p>167829 rows × 2 columns</p>\n",
       "</div>"
      ],
      "text/plain": [
       "                                        japanese_sentence  \\\n",
       "0       雪舟（せっしゅう、1420年（応永27年） - 1506年（永正3年））は号で、15世紀後半...   \n",
       "1                                           日本の水墨画を一変させた。   \n",
       "2                       諱は「等楊（とうよう）」、もしくは「拙宗（せっしゅう）」と号した。   \n",
       "3                             備中国に生まれ、京都・相国寺に入ってから周防国に移る。   \n",
       "4                         その後遣明使に随行して中国（明）に渡って中国の水墨画を学んだ。   \n",
       "...                                                   ...   \n",
       "167824                            尚侍(ないしのかみ)とは、下記のとおりである。   \n",
       "167825                             1 明治・大正時代の、宮中女官の最高の官名。   \n",
       "167826                           2 平安時代の、内侍司の長官を勤めた女官の官名。   \n",
       "167827                             天皇に近侍して、奏請・伝宣などをつかさどる。   \n",
       "167828                                 後に女御･更衣に準じて後宮に列する。   \n",
       "\n",
       "                                         english_sentence  \n",
       "0       Known as Sesshu (1420 - 1506), he was an ink p...  \n",
       "1            He revolutionized the Japanese ink painting.  \n",
       "2       He was given the posthumous name \"Toyo\" or \"Se...  \n",
       "3       Born in Bicchu Province, he moved to Suo Provi...  \n",
       "4       Later he accompanied a mission to Ming Dynasty...  \n",
       "...                                                   ...  \n",
       "167824               Naishi no kami indicates as follows.  \n",
       "167825  1. the highest government post for the court l...  \n",
       "167826  2. the government post for the court lady who ...  \n",
       "167827  Naishi no kami attended on the emperor, being ...  \n",
       "167828  Later, Naishi no kami was ranked with Nyogo an...  \n",
       "\n",
       "[167829 rows x 2 columns]"
      ]
     },
     "execution_count": 22,
     "metadata": {},
     "output_type": "execute_result"
    }
   ],
   "source": [
    "df.columns=col_names\n",
    "file_name='japtoeng.csv'\n",
    "df.to_csv(file_name, sep='\\t')\n",
    "df"
   ]
  },
  {
   "cell_type": "code",
   "execution_count": null,
   "id": "a74b9003",
   "metadata": {},
   "outputs": [],
   "source": []
  }
 ],
 "metadata": {
  "kernelspec": {
   "display_name": "chro",
   "language": "python",
   "name": "chro"
  },
  "language_info": {
   "codemirror_mode": {
    "name": "ipython",
    "version": 3
   },
   "file_extension": ".py",
   "mimetype": "text/x-python",
   "name": "python",
   "nbconvert_exporter": "python",
   "pygments_lexer": "ipython3",
   "version": "3.8.6"
  }
 },
 "nbformat": 4,
 "nbformat_minor": 5
}
